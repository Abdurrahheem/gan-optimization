{
  "nbformat": 4,
  "nbformat_minor": 0,
  "metadata": {
    "colab": {
      "name": "gradient_sliding.ipynb",
      "provenance": [],
      "collapsed_sections": []
    },
    "kernelspec": {
      "name": "python3",
      "display_name": "Python 3"
    }
  },
  "cells": [
    {
      "cell_type": "code",
      "metadata": {
        "id": "wQY7xZd6HLde",
        "colab_type": "code",
        "colab": {}
      },
      "source": [
        "import torch\n",
        "from torch.optim.optimizer import Optimizer\n",
        "from math import ceil"
      ],
      "execution_count": 0,
      "outputs": []
    },
    {
      "cell_type": "code",
      "metadata": {
        "id": "Kj0dCG_YH1io",
        "colab_type": "code",
        "colab": {}
      },
      "source": [
        "class GradSliding(Optimizer):\n",
        "    \"\"\"Lan's Gradient Sliding algorithm.\"\"\"\n",
        "    def __init__(self, params, L, M, D_tilde):\n",
        "        defaults = dict(L=L, M=M, D_tilde=D_tilde)\n",
        "        super().__init__(params, defaults)\n",
        "        self.k = 0\n",
        "        self.t = 0\n",
        "        self.mode = 'main'\n",
        "    \n",
        "    def upd_main_parameters(self):\n",
        "        \"\"\"\n",
        "        Update parameters of main loop of gradient sliding.\n",
        "        \n",
        "        Increment k (counter in main loop). Change mode to PS\n",
        "        (prox-sliding procedure). Calculate parameters according to the\n",
        "        formulas in Lan's book:\n",
        "        gamma, T, beta - formula (8.1.42); T - formula (8.1.42).\n",
        "        gamma_next is value of gamma in the next iteration.\n",
        "        \"\"\"\n",
        "        self.k += 1\n",
        "        self.mode = 'PS'\n",
        "\n",
        "        self.gamma = 3 / (self.k + 2)\n",
        "        self.gamma_next = 3 / (self.k + 3)\n",
        "        \n",
        "        L = self.defaults['L']\n",
        "        M = self.defaults['M']\n",
        "        D_tilde = self.defaults['D_tilde']\n",
        "        T = ceil(M**2 * (self.k + 1)**3 / (D_tilde * L**2))\n",
        "        self.T = int(T)\n",
        "        \n",
        "        self.P = 2 / ((self.T + 1) * (self.T + 2))\n",
        "        self.beta = 9 * L * (1 - self.P) / (2 * (self.k + 1))\n",
        "    \n",
        "    def upd_PS_parameters(self):\n",
        "        \"\"\"\n",
        "        Update parameters of PS procedure.\n",
        "        \n",
        "        Increment t (counter in PS procedure). Calculate p and theta\n",
        "        according to formula (8.1.39) in Lan's book. If this is the last\n",
        "        PS iteration, change mode to main and reset counter.\n",
        "        \"\"\"\n",
        "        self.t += 1\n",
        "        self.p = self.t / 2\n",
        "        self.theta = 2 * (self.t + 1) / (self.t * (self.t + 3))\n",
        "        \n",
        "        if self.t % self.T == 0:\n",
        "            self.t = 0\n",
        "            self.mode = 'main'\n",
        "\n",
        "    @torch.no_grad()\n",
        "    def step(self, closure=None):\n",
        "        \"\"\"Perform Gradient Sliding step.\"\"\"\n",
        "        loss = None\n",
        "        if closure is not None:\n",
        "            with torch.enable_grad():\n",
        "                loss = closure()\n",
        "        \n",
        "        # Part of main loop before PS (prox-sliding) procedure.\n",
        "        # In this branch, par is x_underbar in notation of Lan's book.\n",
        "        if self.mode == 'main':\n",
        "            self.upd_main_parameters()\n",
        "            for group in self.param_groups:\n",
        "                for par in group['params']:\n",
        "                    if par.grad is None:\n",
        "                        continue\n",
        "                    \n",
        "                    state = self.state[par]\n",
        "                    # State initialization.\n",
        "                    if len(state) == 0:\n",
        "                        state['x'] = par.clone()\n",
        "                        state['x_bar'] = par.clone()\n",
        "                    \n",
        "                    state['df_x'] = par.grad\n",
        "                    # At the beginning of PS procedure, gradient of h\n",
        "                    # will be calculated at u0 = x.\n",
        "                    par.copy_(state['x'])\n",
        "                \n",
        "        # PS procedure.\n",
        "        # In this branch, par is u in notation of Lan's book.\n",
        "        elif self.mode == 'PS':\n",
        "            self.upd_PS_parameters()\n",
        "            for group in self.param_groups:\n",
        "                for par in group['params']:\n",
        "                    if par.grad is None:\n",
        "                        continue\n",
        "                    \n",
        "                    state = self.state[par]\n",
        "                    if self.t == 1:\n",
        "                        state['u_tilde'] = par.clone()\n",
        "                    \n",
        "                    dh_u = par.grad\n",
        "\n",
        "                    # Formula (1) from our report.\n",
        "                    numerator = self.beta * (state['x'] + self.p * par) \\\n",
        "                              - state['df_x'] - dh_u\n",
        "                    par.copy_(numerator / (self.beta * (1 + self.p)))\n",
        "                    \n",
        "                    state['u_tilde'] = (1 - self.theta) * state['u_tilde'] \\\n",
        "                                     + self.theta * par\n",
        "                    \n",
        "                    if self.t % self.T == 0:\n",
        "                        # Finish PS procedure.\n",
        "                        state['x'] = par\n",
        "                        state['x_tilde'] = state['u_tilde']\n",
        "                \n",
        "                        # Part of main loop after PS procedure.\n",
        "                        state['x_bar'] = (1 - self.gamma) * state['x_bar'] \\\n",
        "                                       + self.gamma * state['x_tilde']\n",
        "                        # Beginning of main loop of new iteration.\n",
        "                        # Now par is again x_underbar.\n",
        "                        x_underbar = (1 - self.gamma_next) * state['x_bar'] \\\n",
        "                            + self.gamma_next * state['x']\n",
        "                        par.copy_(x_underbar)\n",
        "                \n",
        "        return loss"
      ],
      "execution_count": 0,
      "outputs": []
    },
    {
      "cell_type": "code",
      "metadata": {
        "id": "j6XVcgCSsKEk",
        "colab_type": "code",
        "outputId": "0e76afe0-b1d4-4ae5-cccd-70b7e091b83f",
        "colab": {
          "base_uri": "https://localhost:8080/",
          "height": 34
        }
      },
      "source": [
        "import numpy as np\n",
        "\n",
        "##### REGULARIZED LINEAR REGRESSION #####\n",
        "n_obj = 100\n",
        "n_feat = 10\n",
        "noise_std = 0.01\n",
        "reg_coef = 1.\n",
        "\n",
        "np.random.seed(0)\n",
        "A = np.random.rand(n_obj, n_feat)\n",
        "np.random.seed(0)\n",
        "x_true = np.random.rand(n_feat)\n",
        "np.random.seed(0)\n",
        "b = A @ x_true + noise_std * np.random.rand(n_obj)\n",
        "\n",
        "# These are analytically calculated parameters, not important.\n",
        "L = 2 * reg_coef / n_obj\n",
        "max_norm = np.linalg.norm(b) / np.sqrt(reg_coef)\n",
        "M = 2 * np.linalg.norm(A, ord=2)**2 * max_norm / n_obj\n",
        "M /= 160\n",
        "D_tilde = max_norm**2 * 3 / 2\n",
        "print(f\"L={L:.3f}, M={M:.1f}, D_tilde={D_tilde:.1f}\")"
      ],
      "execution_count": 5,
      "outputs": [
        {
          "output_type": "stream",
          "text": [
            "L=0.020, M=1.0, D_tilde=1470.5\n"
          ],
          "name": "stdout"
        }
      ]
    },
    {
      "cell_type": "code",
      "metadata": {
        "id": "2JupERQGVp0C",
        "colab_type": "code",
        "colab": {}
      },
      "source": [
        "X_train = torch.tensor(A, dtype=torch.float)\n",
        "y_train = torch.tensor(b.reshape(-1, 1), dtype=torch.float)"
      ],
      "execution_count": 0,
      "outputs": []
    },
    {
      "cell_type": "code",
      "metadata": {
        "id": "nBQwwYPsCWkP",
        "colab_type": "code",
        "colab": {}
      },
      "source": [
        "import torch.nn as nn\n",
        "\n",
        "model = nn.Linear(10, 1)\n",
        "opt = GradSliding(model.parameters(), L, M, D_tilde)\n",
        "\n",
        "loss1 = nn.MSELoss()\n",
        "loss2 = nn.MSELoss()"
      ],
      "execution_count": 0,
      "outputs": []
    },
    {
      "cell_type": "code",
      "metadata": {
        "id": "oIht-udcDGLT",
        "colab_type": "code",
        "outputId": "e0d698f8-0a89-41db-e3f7-a8f98f8b7fa9",
        "colab": {
          "base_uri": "https://localhost:8080/",
          "height": 118
        }
      },
      "source": [
        "for i in range(1000):\n",
        "\n",
        "    y_pred = model(X_train)\n",
        "    if opt.mode == 'main':\n",
        "        # Regularization term.\n",
        "        loss = reg_coef * loss1(y_pred, torch.zeros_like(y_pred))\n",
        "        with torch.no_grad():\n",
        "            sum_loss = loss2(y_pred, y_train) \\\n",
        "                     + reg_coef * loss1(y_pred, torch.zeros_like(y_pred))\n",
        "        print(f\"k = {opt.k}, sum loss = {sum_loss:.2f}\")\n",
        "    else:\n",
        "        # Squared error term.\n",
        "        loss = loss2(y_pred, y_train)\n",
        "    opt.zero_grad()\n",
        "    loss.backward()\n",
        "    opt.step()"
      ],
      "execution_count": 8,
      "outputs": [
        {
          "output_type": "stream",
          "text": [
            "k = 0, sum loss = 8.74\n",
            "k = 1, sum loss = inf\n",
            "k = 2, sum loss = nan\n",
            "k = 3, sum loss = nan\n",
            "k = 4, sum loss = nan\n",
            "k = 5, sum loss = nan\n"
          ],
          "name": "stdout"
        }
      ]
    },
    {
      "cell_type": "code",
      "metadata": {
        "id": "NpqlJWhHfRxu",
        "colab_type": "code",
        "colab": {}
      },
      "source": [
        ""
      ],
      "execution_count": 0,
      "outputs": []
    }
  ]
}