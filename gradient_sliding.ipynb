{
  "nbformat": 4,
  "nbformat_minor": 0,
  "metadata": {
    "colab": {
      "name": "gradient_sliding.ipynb",
      "provenance": [],
      "collapsed_sections": []
    },
    "kernelspec": {
      "name": "python3",
      "display_name": "Python 3"
    }
  },
  "cells": [
    {
      "cell_type": "code",
      "metadata": {
        "id": "wQY7xZd6HLde",
        "colab_type": "code",
        "colab": {}
      },
      "source": [
        "import torch\n",
        "from torch.optim.optimizer import Optimizer\n",
        "from math import ceil"
      ],
      "execution_count": 0,
      "outputs": []
    },
    {
      "cell_type": "code",
      "metadata": {
        "id": "Kj0dCG_YH1io",
        "colab_type": "code",
        "colab": {}
      },
      "source": [
        "class GradSliding(Optimizer):\n",
        "    \"\"\"Lan's Gradient Sliding algorithm.\"\"\"\n",
        "    def __init__(self, params, L, M, D_tilde):\n",
        "        defaults = dict(L=L, M=M, D_tilde=D_tilde)\n",
        "        super().__init__(params, defaults)\n",
        "        self.k = 0\n",
        "        self.t = 0\n",
        "        self.mode = 'main'\n",
        "    \n",
        "    def compute_gamma(self):\n",
        "        \"\"\"Compute gamma according to formula (8.1.42) in Lan's book.\"\"\"\n",
        "        self.gamma = 3 / (self.k + 2)\n",
        "        self.gamma_next = 3 / (self.k + 3)\n",
        "    \n",
        "    def compute_T(self):\n",
        "        \"\"\"Compute T according to formula (8.1.42) in Lan's book.\"\"\"\n",
        "        L = self.defaults['L']\n",
        "        M = self.defaults['M']\n",
        "        D_tilde = self.defaults['D_tilde']\n",
        "        T = ceil(M**2 * (self.k + 1)**3 / (D_tilde * L**2))\n",
        "        self.T = int(T)\n",
        "        print(\"T=\", T)\n",
        "    \n",
        "    def compute_P(self):\n",
        "        \"\"\"Compute P_Tk according to formula (8.1.44) in Lan's book.\"\"\"\n",
        "        self.P = 2 / ((self.T + 1) * (self.T + 2))\n",
        "    \n",
        "    def compute_theta(self):\n",
        "        \"\"\"Compute theta according to formula (8.1.39) in Lan's book.\"\"\"\n",
        "        self.theta = 2 * (self.t + 1) / (self.t * (self.t + 3))\n",
        "    \n",
        "    def compute_p(self):\n",
        "        \"\"\"Compute p according to formula (8.1.39) in Lan's book.\"\"\"\n",
        "        self.p = self.t / 2\n",
        "    \n",
        "    def compute_beta(self):\n",
        "        \"\"\"Compute beta according to formula (8.1.42) in Lan's book.\"\"\"\n",
        "        L = self.defaults['L']\n",
        "        self.beta = 9 * L * (1 - self.P) / (2 * (self.k + 1))\n",
        "\n",
        "    @torch.no_grad()\n",
        "    def step(self, closure=None):\n",
        "        \"\"\"Perform Gradient Sliding step.\"\"\"\n",
        "        loss = None\n",
        "        if closure is not None:\n",
        "            with torch.enable_grad():\n",
        "                loss = closure()\n",
        "        \n",
        "        # Part of main loop before PS (prox-sliding) procedure.\n",
        "        # In this branch, par is x_underbar in notation of Lan's book.\n",
        "        if self.mode == 'main':\n",
        "            self.k += 1\n",
        "            self.compute_gamma()\n",
        "            self.compute_T()\n",
        "            self.compute_P()\n",
        "            self.compute_beta()\n",
        "            for group in self.param_groups:\n",
        "                for par in group['params']:\n",
        "                    if par.grad is None:\n",
        "                        continue\n",
        "                    \n",
        "                    state = self.state[par]\n",
        "                    # State initialization.\n",
        "                    if len(state) == 0:\n",
        "                        state['x'] = par.clone()\n",
        "                        state['x_bar'] = par.clone()\n",
        "                    \n",
        "                    state['df_x'] = par.grad\n",
        "                    # At the beginning of PS procedure, gradient of h\n",
        "                    # will be calculated at u0 = x.\n",
        "                    par_copy = par.clone()\n",
        "                    par.add_(state['x'])\n",
        "                    par.sub_(par_copy)\n",
        "            self.mode = 'PS'\n",
        "                \n",
        "        # PS procedure.\n",
        "        # In this branch, par is u in notation of Lan's book.\n",
        "        elif self.mode == 'PS':\n",
        "            self.t += 1\n",
        "            self.compute_p()\n",
        "            self.compute_theta()\n",
        "            for group in self.param_groups:\n",
        "                for par in group['params']:\n",
        "                    if par.grad is None:\n",
        "                        continue\n",
        "                    \n",
        "                    state = self.state[par]\n",
        "                    if self.t == 1:\n",
        "                        state['u_tilde'] = par.clone()\n",
        "                    \n",
        "                    dh_u = par.grad\n",
        "\n",
        "                    # Formula (1) from our report.\n",
        "                    numerator = self.beta * (state['x'] + self.p * par) \\\n",
        "                              - state['df_x'] - dh_u\n",
        "                    u = numerator / (self.beta * (1 + self.p))\n",
        "                    par_copy = par.clone()\n",
        "                    par.add_(u)\n",
        "                    par.sub_(par_copy)\n",
        "                    \n",
        "                    state['u_tilde'] = (1 - self.theta) * state['u_tilde'] \\\n",
        "                                     + self.theta * par\n",
        "                    \n",
        "                    if self.t % self.T == 0:\n",
        "                        # Finish PS procedure.\n",
        "                        state['x'] = par\n",
        "                        state['x_tilde'] = state['u_tilde']\n",
        "                \n",
        "                        # Part of main loop after PS procedure.\n",
        "                        state['x_bar'] = (1 - self.gamma) * state['x_bar'] \\\n",
        "                                       + self.gamma * state['x_tilde']\n",
        "                        # Beginning of main loop of new iteration.\n",
        "                        # Now par is again x_underbar.\n",
        "                        par_copy = par.clone()\n",
        "                        x_underbar = (1 - self.gamma_next) * state['x_bar'] \\\n",
        "                            + self.gamma_next * state['x']\n",
        "                        par.add_(x_underbar)\n",
        "                        par.sub_(par_copy)\n",
        "            if self.t % self.T == 0:\n",
        "                self.t = 0\n",
        "                self.mode = 'main'\n",
        "                \n",
        "        return loss"
      ],
      "execution_count": 0,
      "outputs": []
    },
    {
      "cell_type": "code",
      "metadata": {
        "id": "j6XVcgCSsKEk",
        "colab_type": "code",
        "colab": {
          "base_uri": "https://localhost:8080/",
          "height": 34
        },
        "outputId": "7e3f0ac3-2b2b-49d4-a6ed-ef34b022b35b"
      },
      "source": [
        "from scipy.sparse.linalg import svds\n",
        "import numpy as np\n",
        "\n",
        "n_obj = 100\n",
        "n_feat = 10\n",
        "noise_std = 0.01\n",
        "reg_coef = 1.\n",
        "\n",
        "np.random.seed(0)\n",
        "A = np.random.rand(n_obj, n_feat)\n",
        "np.random.seed(0)\n",
        "x_true = np.random.rand(n_feat)\n",
        "np.random.seed(0)\n",
        "b = A @ x_true + noise_std * np.random.rand(n_obj)\n",
        "\n",
        "L = 2 * reg_coef / n_obj\n",
        "max_norm = np.linalg.norm(b) / np.sqrt(reg_coef)\n",
        "M = 2 * np.linalg.norm(A, ord=2)**2 * diam / n_obj\n",
        "M /= 1000\n",
        "D_tilde = max_norm**2 * 3 / 2\n",
        "print(f\"L={L:.3f}, M={M:.1f}, D_tilde={D_tilde:.1f}\")"
      ],
      "execution_count": 109,
      "outputs": [
        {
          "output_type": "stream",
          "text": [
            "L=0.020, M=1.0, D_tilde=1470.5\n"
          ],
          "name": "stdout"
        }
      ]
    },
    {
      "cell_type": "code",
      "metadata": {
        "id": "2JupERQGVp0C",
        "colab_type": "code",
        "colab": {}
      },
      "source": [
        "X_train = torch.tensor(A, dtype=torch.float)\n",
        "y_train = torch.tensor(b.reshape(-1, 1), dtype=torch.float)"
      ],
      "execution_count": 0,
      "outputs": []
    },
    {
      "cell_type": "code",
      "metadata": {
        "id": "nBQwwYPsCWkP",
        "colab_type": "code",
        "colab": {}
      },
      "source": [
        "import torch.nn as nn\n",
        "\n",
        "model = nn.Linear(10, 1)\n",
        "opt = GradSliding(model.parameters(), L, M, D_tilde)\n",
        "\n",
        "loss1 = nn.MSELoss()\n",
        "loss2 = nn.MSELoss()"
      ],
      "execution_count": 0,
      "outputs": []
    },
    {
      "cell_type": "code",
      "metadata": {
        "id": "oIht-udcDGLT",
        "colab_type": "code",
        "colab": {
          "base_uri": "https://localhost:8080/",
          "height": 218
        },
        "outputId": "d8317528-e620-47cb-8967-beef453737cb"
      },
      "source": [
        "for i in range(1000):\n",
        "\n",
        "    y_pred = model(X_train)\n",
        "    if opt.mode == 'main':\n",
        "        # f\n",
        "        loss = reg_coef * loss1(y_pred, torch.zeros_like(y_pred))\n",
        "        with torch.no_grad():\n",
        "            sum_loss = loss2(y_pred, y_train) \\\n",
        "                     + reg_coef * loss1(y_pred, torch.zeros_like(y_pred))\n",
        "        print(f\"k = {opt.k}, sum loss = {sum_loss:.2f}\")\n",
        "    else:\n",
        "        # h\n",
        "        loss = loss2(y_pred, y_train)\n",
        "    opt.zero_grad()\n",
        "    loss.backward()\n",
        "    opt.step()"
      ],
      "execution_count": 112,
      "outputs": [
        {
          "output_type": "stream",
          "text": [
            "k = 0, sum loss = 8.11\n",
            "T= 15\n",
            "k = 1, sum loss = inf\n",
            "T= 49\n",
            "k = 2, sum loss = nan\n",
            "T= 114\n",
            "k = 3, sum loss = nan\n",
            "T= 223\n",
            "k = 4, sum loss = nan\n",
            "T= 385\n",
            "k = 5, sum loss = nan\n",
            "T= 610\n"
          ],
          "name": "stdout"
        }
      ]
    },
    {
      "cell_type": "code",
      "metadata": {
        "id": "NpqlJWhHfRxu",
        "colab_type": "code",
        "colab": {}
      },
      "source": [
        ""
      ],
      "execution_count": 0,
      "outputs": []
    }
  ]
}